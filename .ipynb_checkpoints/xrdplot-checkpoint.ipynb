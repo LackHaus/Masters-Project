{
 "cells": [
  {
   "cell_type": "code",
   "execution_count": 3,
   "id": "fafe4ebe-15fb-4ea8-be97-5c3a75279b26",
   "metadata": {},
   "outputs": [],
   "source": [
    "xrd_file_asdep = 'E:/PCM/XRD/Si-GSSe400nm-SiO2_capped_asdep_GI-3deg_5-50deg_0.05deg_1sec_DivSlit0.2mm_BigSoller.txt'\n",
    "xrd_file_heated = 'E:/PCM/XRD/Si-GSSe400nm-SiO2_capped_HT_GI-3deg_5-50deg_0.05deg_1sec_DivSlit0.2mm_BigSoller.txt'"
   ]
  },
  {
   "cell_type": "code",
   "execution_count": 6,
   "id": "d7007e19-ac06-47ba-ad4f-87b0118e22e2",
   "metadata": {},
   "outputs": [],
   "source": [
    "with open(xrd_file_asdep, 'r') as f:\n",
    "    asdep_data = f.readlines()\n",
    "\n",
    "with open(xrd_file_heated, 'r') as f:\n",
    "    heated_data = f.readlines()\n",
    "    "
   ]
  },
  {
   "cell_type": "code",
   "execution_count": 10,
   "id": "7725a3d5-2fe0-48b9-9be1-fd739ff10c30",
   "metadata": {},
   "outputs": [],
   "source": [
    "for i in range(len(asdep_data)):\n",
    "    if '[Data]' in asdep_data[i]:\n",
    "        asdep_data = asdep_data[i+1:]\n",
    "        break\n",
    "        \n",
    "asdep_data"
   ]
  },
  {
   "cell_type": "code",
   "execution_count": null,
   "id": "ea7104dd-c13d-43d3-ba9b-35207ced99aa",
   "metadata": {},
   "outputs": [],
   "source": []
  }
 ],
 "metadata": {
  "kernelspec": {
   "display_name": "Python 3 (ipykernel)",
   "language": "python",
   "name": "python3"
  },
  "language_info": {
   "codemirror_mode": {
    "name": "ipython",
    "version": 3
   },
   "file_extension": ".py",
   "mimetype": "text/x-python",
   "name": "python",
   "nbconvert_exporter": "python",
   "pygments_lexer": "ipython3",
   "version": "3.10.0"
  }
 },
 "nbformat": 4,
 "nbformat_minor": 5
}

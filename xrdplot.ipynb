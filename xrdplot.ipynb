{
 "cells": [
  {
   "cell_type": "code",
   "execution_count": 16,
   "id": "fafe4ebe-15fb-4ea8-be97-5c3a75279b26",
   "metadata": {},
   "outputs": [
    {
     "name": "stdout",
     "output_type": "stream",
     "text": [
      "Using matplotlib backend: TkAgg\n"
     ]
    }
   ],
   "source": [
    "\n",
    "import pandas as pd\n",
    "import matplotlib.pyplot as plt\n",
    "plt.rcParams.update({'font.size':14}) \n",
    "import numpy as np\n",
    "%matplotlib\n",
    "\n",
    "xrd_file_asdep = 'E:/PCM/XRD/LMF 400nm capped/Si-GSSe400nm-SiO2_capped_asdep_GI-3deg_5-50deg_0.05deg_1sec_DivSlit0.2mm_BigSoller.txt'\n",
    "xrd_file_heated = 'E:/PCM/XRD/LMF 400nm capped/Si-GSSe400nm-SiO2_capped_HT_GI-3deg_5-50deg_0.05deg_1sec_DivSlit0.2mm_BigSoller.txt'\n",
    "xrd_czech_heated = 'E:/PCM/XRD/Pardubice Czech republic data/19923-KFCh.uxd'\n",
    "\n",
    "files = [xrd_file_asdep, xrd_file_heated, xrd_czech_heated]"
   ]
  },
  {
   "cell_type": "code",
   "execution_count": 15,
   "id": "d7007e19-ac06-47ba-ad4f-87b0118e22e2",
   "metadata": {},
   "outputs": [],
   "source": [
    "data = []\n",
    "\n",
    "for file in files:\n",
    "    with open(file, 'r') as f:\n",
    "        data.append(f.readlines())\n",
    "        \n",
    "for i in range(len(data)):\n",
    "    for j in range(len(data[i])):\n",
    "        if ('_2THETACOUNTS' in data[i][j]) or ('[Data]' in data[i][j]):\n",
    "            data[i] = data[i][j+2:]\n",
    "            break\n",
    "\n",
    "xs = []\n",
    "ys = []\n",
    "for i in data[0:2]:\n",
    "    x = []\n",
    "    y = []\n",
    "    for j in i:\n",
    "        x.append(float(j.split(',')[0]))\n",
    "        y.append(float(j.split(',')[1]))\n",
    "    xs.append(x)\n",
    "    ys.append(y)\n",
    "\n",
    "x = [] \n",
    "y = []\n",
    "for i in data[2]:\n",
    "    x.append(float(i.split('      ')[0]))\n",
    "    y.append(float(i.split('      ')[1]))\n",
    "\n",
    "xs.append(x)\n",
    "ys.append(y)\n"
   ]
  },
  {
   "cell_type": "code",
   "execution_count": 17,
   "id": "7725a3d5-2fe0-48b9-9be1-fd739ff10c30",
   "metadata": {},
   "outputs": [],
   "source": [
    "for i in range(len(ys)):\n",
    "    ys[i] = np.array(ys[i]) / np.max(ys[i])\n",
    "    \n",
    "  \n",
    "plt.figure(figsize=(20, 10),tight_layout=True)\n",
    "for i in range(len(xs)):\n",
    "    plt.plot(xs[i], ys[i])\n",
    "plt.xlabel('2*theta')\n",
    "plt.ylabel('Normalized count')\n",
    "plt.legend(['As deposited LMF', 'Heat treated LMF', 'Pardubice group (2016)'])\n",
    "\n",
    "plt.savefig('XRD.png')\n"
   ]
  },
  {
   "cell_type": "code",
   "execution_count": null,
   "id": "16b20a6f-ff66-4fe8-a9f6-c32be8a12486",
   "metadata": {},
   "outputs": [],
   "source": []
  },
  {
   "cell_type": "code",
   "execution_count": null,
   "id": "49ba910f-a1e3-424a-b779-20af50a4c22e",
   "metadata": {},
   "outputs": [],
   "source": []
  }
 ],
 "metadata": {
  "kernelspec": {
   "display_name": "Python 3 (ipykernel)",
   "language": "python",
   "name": "python3"
  },
  "language_info": {
   "codemirror_mode": {
    "name": "ipython",
    "version": 3
   },
   "file_extension": ".py",
   "mimetype": "text/x-python",
   "name": "python",
   "nbconvert_exporter": "python",
   "pygments_lexer": "ipython3",
   "version": "3.10.0"
  }
 },
 "nbformat": 4,
 "nbformat_minor": 5
}
